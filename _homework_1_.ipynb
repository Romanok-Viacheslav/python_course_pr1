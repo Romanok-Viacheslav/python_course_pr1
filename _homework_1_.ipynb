{
  "nbformat": 4,
  "nbformat_minor": 0,
  "metadata": {
    "colab": {
      "provenance": []
    },
    "kernelspec": {
      "name": "python3",
      "display_name": "Python 3"
    },
    "language_info": {
      "name": "python"
    }
  },
  "cells": [
    {
      "cell_type": "markdown",
      "source": [
        "**В цьому блокноті ви можете попрактикуватися та виконати декілька нескладних завдань. Успіхів)**\n"
      ],
      "metadata": {
        "id": "KPbujZRoP-AL"
      }
    },
    {
      "cell_type": "markdown",
      "source": [
        ">\n",
        "**Вітання**\n",
        ">\n",
        "На вхід до програми подається рядок тексту – ім'я людини. Напишіть програму, яка виводить на екран привітання у вигляді слова «Привіт» (без лапок), після якого має стояти кома та пробіл, а потім введене ім'я.\n",
        ">\n",
        "**Формат вхідних даних**\n",
        "\n",
        "На вхід до програми подається один рядок — ім'я людини.\n",
        ">\n",
        "**Формат вихідних даних**\n",
        "\n",
        "Програма має вивести текст у відповідності з умовою завдання."
      ],
      "metadata": {
        "id": "pfGyWUcNbJeg"
      }
    },
    {
      "cell_type": "markdown",
      "source": [
        "Test 1\n",
        ">\n",
        "**Sample Input:**\n",
        ">\n",
        "*Васька*\n",
        ">\n",
        "**Sample Output:**\n",
        ">\n",
        "*Привіт, Васька!*\n",
        "\n",
        "\n"
      ],
      "metadata": {
        "id": "npQxVB6HcYBP"
      }
    },
    {
      "cell_type": "code",
      "source": [
        "name = input()\n",
        "print(\"Привіт,\", name + \"!\")"
      ],
      "metadata": {
        "id": "NG045J4JcJlr",
        "colab": {
          "base_uri": "https://localhost:8080/"
        },
        "outputId": "6b93a13f-f78f-46a9-e108-3f70dff0800d"
      },
      "execution_count": 2,
      "outputs": [
        {
          "output_type": "stream",
          "name": "stdout",
          "text": [
            "В'ячеслав\n",
            "Привіт, В'ячеслав!\n"
          ]
        }
      ]
    },
    {
      "cell_type": "markdown",
      "source": [
        "**Персональні дані**\n",
        "\n",
        "Напишіть програму яка запитує в користувача його ім'я та вік та виводить повідомлення: \"Привіт, [name]! Тобі [age] років!\".\n",
        "\n",
        "**Формат вхідних даних**\n",
        "\n",
        "На вхід до програми подається два рядки — ім'я людини та її вік.\n",
        ">\n",
        "**Формат вихідних даних**\n",
        "\n",
        "Програма має вивести текст у відповідності з умовою завдання."
      ],
      "metadata": {
        "id": "FIEKu1EOR0lm"
      }
    },
    {
      "cell_type": "markdown",
      "source": [
        "Test 1\n",
        ">\n",
        "**Sample Input:**\n",
        ">\n",
        "*Васька*\n",
        ">\n",
        "*18*\n",
        ">\n",
        "**Sample Output:**\n",
        ">\n",
        "*Привіт, Васька! Тобі 18 років!*\n",
        "\n",
        "\n"
      ],
      "metadata": {
        "id": "_Hh0_xwcS2I9"
      }
    },
    {
      "cell_type": "code",
      "execution_count": 3,
      "metadata": {
        "id": "u9kcIDw0NlHe",
        "colab": {
          "base_uri": "https://localhost:8080/"
        },
        "outputId": "52429edf-fe26-4f51-a7f6-95b750a78d48"
      },
      "outputs": [
        {
          "output_type": "stream",
          "name": "stdout",
          "text": [
            "В'ячеслав\n",
            "20\n",
            "Привіт, В'ячеслав! Тобі 20 років!\n"
          ]
        }
      ],
      "source": [
        "name = input()\n",
        "age = int(input())\n",
        "print(\"Привіт,\", name + \"!\", \"Тобі\", age, \"років!\")"
      ]
    },
    {
      "cell_type": "markdown",
      "source": [
        " **Щаслива послідовність**\n",
        "\n",
        "У популярному серіалі «Залишитися в живих» використовувалася послідовність чисел* 4 8 15 16 23 42*, яка принесла героям удачу та допомогла зірвати джекпот у лотереї. Напишіть програму, яка виводить цю послідовність чисел з одним пропуском між ними.\n",
        "\n",
        "**Примітка**: Текст '4 8 15 16 23 42' не використовувати. Скористайтеся можливістю команди print() виводити кілька аргументів, вказаних через кому."
      ],
      "metadata": {
        "id": "j_yuHj29WlXP"
      }
    },
    {
      "cell_type": "markdown",
      "source": [
        "Test 1\n",
        ">\n",
        "**Sample Input:**\n",
        ">\n",
        "*аргументів на вхід програмі не подається*\n",
        ">\n",
        "**Sample Output:**\n",
        ">\n",
        "*4 8 15 16 23 42*"
      ],
      "metadata": {
        "id": "zvlURsE2XH1o"
      }
    },
    {
      "cell_type": "code",
      "source": [
        "print(4, 8, 15, 16, 23, 42)"
      ],
      "metadata": {
        "id": "W1Ly7EVrXY8v",
        "colab": {
          "base_uri": "https://localhost:8080/"
        },
        "outputId": "2cf2333e-8157-43a6-b6df-0daf5b8d3132"
      },
      "execution_count": 6,
      "outputs": [
        {
          "output_type": "stream",
          "name": "stdout",
          "text": [
            "4 8 15 16 23 42\n"
          ]
        }
      ]
    },
    {
      "cell_type": "markdown",
      "source": [
        "**Щаслива послідовність 2**\n",
        "\n",
        "Змініть попередню програму так, щоб кожне число послідовності *4 8 15 16 23 42* друкувалось на окремому рядку.\n",
        "\n",
        "**Примітка:** Кожна наступна команда print() виводить вказаний текст, починаючи з нового рядка."
      ],
      "metadata": {
        "id": "l1vswNQTXmet"
      }
    },
    {
      "cell_type": "code",
      "source": [
        "print(4)\n",
        "print(8)\n",
        "print(15)\n",
        "print(16)\n",
        "print(23)\n",
        "print(42)"
      ],
      "metadata": {
        "id": "5-nH8ec2YAP8",
        "colab": {
          "base_uri": "https://localhost:8080/"
        },
        "outputId": "7dafa62c-84c6-4df2-c737-34af8e062b15"
      },
      "execution_count": 7,
      "outputs": [
        {
          "output_type": "stream",
          "name": "stdout",
          "text": [
            "4\n",
            "8\n",
            "15\n",
            "16\n",
            "23\n",
            "42\n"
          ]
        }
      ]
    },
    {
      "cell_type": "markdown",
      "source": [
        "**Зірковий трикутник**\n",
        "\n",
        "Напишіть програму, яка виводить вказаний трикутник, що складається із зірочок \"*\".\n",
        "\n"
      ],
      "metadata": {
        "id": "__UU19pmYKvp"
      }
    },
    {
      "cell_type": "markdown",
      "source": [
        "Test 1\n",
        ">\n",
        "**Sample Input:**\n",
        ">\n",
        "*аргументів на вхід програмі не подається*\n",
        ">\n",
        "**Sample Output:**\n",
        ">\n",
        ">\n",
        "\\*\n",
        ">\n",
        "\\**\n",
        ">\n",
        "\\***\n",
        ">\n",
        "\\****\n",
        ">\n",
        "\\*****\n",
        ">\n",
        "\\******\n",
        "\n",
        "\n",
        "\n"
      ],
      "metadata": {
        "id": "azKn3tL7dGx3"
      }
    },
    {
      "cell_type": "code",
      "source": [
        "n = 6\n",
        "for i in range(1, n + 1):\n",
        "    print('*' * i)"
      ],
      "metadata": {
        "id": "u2ka_rN1YgbN",
        "colab": {
          "base_uri": "https://localhost:8080/"
        },
        "outputId": "f0154b25-ec52-4f09-ed4d-d879c8ec8017"
      },
      "execution_count": 8,
      "outputs": [
        {
          "output_type": "stream",
          "name": "stdout",
          "text": [
            "*\n",
            "**\n",
            "***\n",
            "****\n",
            "*****\n",
            "******\n"
          ]
        }
      ]
    },
    {
      "cell_type": "markdown",
      "source": [
        "**Повторюй за мною**\n",
        "\n",
        "Напишіть програму, яка зчитує три рядки по черзі, а потім виводить їх у тій самій послідовності, кожну на окремому рядку.\n",
        "\n",
        "**Формат вхідних даних**\n",
        "На вхід програмі подаються три рядки, кожен на окремому рядку.\n",
        "\n",
        "**Формат вихідних даних**\n",
        "Програма повинна вивести введені рядки у тій самій послідовності, кожну на окремому рядку.\n",
        "\n",
        "**Примітка:** Для читання тексту використовуйте команду **input()**, для друку тексту на екрані використовуйте команду **print()**."
      ],
      "metadata": {
        "id": "P-jJ4Gl3a25e"
      }
    },
    {
      "cell_type": "markdown",
      "source": [
        "**Sample Input 1:**\n",
        "\n",
        "Я був\n",
        ">\n",
        "введений\n",
        ">\n",
        "цим шляхом\n",
        "\n",
        "**Sample Output 1:**\n",
        "\n",
        "Я був\n",
        ">\n",
        "введений\n",
        ">\n",
        "цим шляхом"
      ],
      "metadata": {
        "id": "tbKuj1lYd1sC"
      }
    },
    {
      "cell_type": "code",
      "source": [
        "line1 = input()\n",
        "line2 = input()\n",
        "line3 = input()\n",
        "\n",
        "print(line1)\n",
        "print(line2)\n",
        "print(line3)"
      ],
      "metadata": {
        "id": "TwCmcOnQeXdw",
        "colab": {
          "base_uri": "https://localhost:8080/"
        },
        "outputId": "ce37e9c1-57bb-4d01-c8ae-29bd8c6bee92"
      },
      "execution_count": 9,
      "outputs": [
        {
          "output_type": "stream",
          "name": "stdout",
          "text": [
            "Я був\n",
            "введений\n",
            "цим шляхом\n",
            "Я був\n",
            "введений\n",
            "цим шляхом\n"
          ]
        }
      ]
    },
    {
      "cell_type": "markdown",
      "source": [
        "**Повторюй за мною 2**\n",
        "\n",
        "Напишіть програму, яка зчитує три рядки по черзі, а потім виводить їх у зворотній послідовності, кожну на окремому рядку.\n",
        "\n",
        "**Формат вхідних даних**\n",
        "\n",
        "На вхід програмі подається три рядки, кожен на окремому рядку.\n",
        "\n",
        "**Формат вихідних даних**\n",
        "\n",
        "Програма повинна вивести введені рядки у зворотній послідовності, кожну на окремому рядку.\n",
        "\n",
        "**Примітка:** Використовуйте 3 змінні, щоб зберегти введені рядки тексту."
      ],
      "metadata": {
        "id": "h8orHNGOeiyA"
      }
    },
    {
      "cell_type": "markdown",
      "source": [
        "**Sample Input 1:**\n",
        "\n",
        "Hello\n",
        ">\n",
        "it's\n",
        ">\n",
        "me\n",
        "\n",
        "**Sample Output 1:**\n",
        "\n",
        "me\n",
        ">\n",
        "it's\n",
        ">\n",
        "Hello\n",
        "\n",
        "\n",
        "\n",
        "\n",
        "\n",
        "**Sample Input 2:**\n",
        "\n",
        "I love\n",
        ">\n",
        "Python\n",
        ">\n",
        "so much\n",
        "\n",
        "**Sample Output 2:**\n",
        "\n",
        "so much\n",
        ">\n",
        "Python\n",
        ">\n",
        "I love"
      ],
      "metadata": {
        "id": "ykY4ubUFev-N"
      }
    },
    {
      "cell_type": "code",
      "source": [
        "line1 = input()\n",
        "line2 = input()\n",
        "line3 = input()\n",
        "\n",
        "print(line3)\n",
        "print(line2)\n",
        "print(line1)"
      ],
      "metadata": {
        "colab": {
          "base_uri": "https://localhost:8080/"
        },
        "id": "x1UNA_RfmJl6",
        "outputId": "91984b25-3bf2-48ef-9bd9-6813e2a9349c"
      },
      "execution_count": 11,
      "outputs": [
        {
          "output_type": "stream",
          "name": "stdout",
          "text": [
            "Hello\n",
            "It's\n",
            "me\n",
            "me\n",
            "It's\n",
            "Hello\n"
          ]
        }
      ]
    },
    {
      "cell_type": "code",
      "source": [
        "line1 = input()\n",
        "line2 = input()\n",
        "line3 = input()\n",
        "\n",
        "print(line3)\n",
        "print(line2)\n",
        "print(line1)"
      ],
      "metadata": {
        "id": "oL3mnyKWfLm5",
        "colab": {
          "base_uri": "https://localhost:8080/"
        },
        "outputId": "a42f4b21-e726-4f80-a2fe-925330512f2e"
      },
      "execution_count": 12,
      "outputs": [
        {
          "output_type": "stream",
          "name": "stdout",
          "text": [
            "I love\n",
            "Python\n",
            "so much\n",
            "so much\n",
            "Python\n",
            "I love\n"
          ]
        }
      ]
    }
  ]
}